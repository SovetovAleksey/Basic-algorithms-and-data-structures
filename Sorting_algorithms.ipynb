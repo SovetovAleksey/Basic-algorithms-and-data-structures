{
  "nbformat": 4,
  "nbformat_minor": 0,
  "metadata": {
    "colab": {
      "provenance": [],
      "authorship_tag": "ABX9TyOzupD6sKs7+7Ldr67MiPjp",
      "include_colab_link": true
    },
    "kernelspec": {
      "name": "python3",
      "display_name": "Python 3"
    },
    "language_info": {
      "name": "python"
    }
  },
  "cells": [
    {
      "cell_type": "markdown",
      "metadata": {
        "id": "view-in-github",
        "colab_type": "text"
      },
      "source": [
        "<a href=\"https://colab.research.google.com/github/SovetovAleksey/Basic-algorithms-and-data-structures/blob/main/Sorting_algorithms.ipynb\" target=\"_parent\"><img src=\"https://colab.research.google.com/assets/colab-badge.svg\" alt=\"Open In Colab\"/></a>"
      ]
    },
    {
      "cell_type": "code",
      "execution_count": null,
      "metadata": {
        "colab": {
          "base_uri": "https://localhost:8080/"
        },
        "id": "4gVVrHknEEig",
        "outputId": "ea9c14f0-a61c-4c6a-d84e-e2cc8dbfed7b"
      },
      "outputs": [
        {
          "output_type": "stream",
          "name": "stdout",
          "text": [
            "[-8, 0, 1, 5, 7, 10]\n"
          ]
        }
      ],
      "source": [
        "#-------------------------------------------------------------\n",
        "# Алгоритм сортировки пузырьком\n",
        "#-------------------------------------------------------------\n",
        "\n",
        "a = [7, 5, -8, 0, 10, 1]\n",
        "N = len(a)\n",
        "\n",
        "for i in range(0, N - 1):\n",
        "  for j in range(0, N - 1 - i):\n",
        "    if a[j] > a[j + 1]:\n",
        "      a[j], a[j + 1] = a[j + 1], a[j]\n",
        "\n",
        "print(a)"
      ]
    },
    {
      "cell_type": "code",
      "source": [
        "#-------------------------------------------------------------\n",
        "# Алгоритм сортировки выбором\n",
        "#-------------------------------------------------------------\n",
        "\n",
        "a = [-3, 5, 0, -8, 1, 10]\n",
        "N = len(a) # Число элементов в списке\n",
        "\n",
        "for i in range(N-1):\n",
        "  m = a[i]                  # Запоминаем минимальное значение\n",
        "  p = i                     # Запоминаем индекс миниимального значения\n",
        "  for j in range(i + 1, N): # Поиск минимального среди оставшихся\n",
        "    if m > a[j]:\n",
        "      m = a[j]\n",
        "      p = j\n",
        "\n",
        "  if p != i:                # Обмен значениями, если был найден минимальный не в 1-й позиции\n",
        "    t = a[i]\n",
        "    a[i] = a[p]\n",
        "    a[p] = t\n",
        "\n",
        "print(a)"
      ],
      "metadata": {
        "colab": {
          "base_uri": "https://localhost:8080/"
        },
        "id": "ZczVvOr_Ifik",
        "outputId": "495a4bb8-8de1-4eaa-89bd-2f627562ff13"
      },
      "execution_count": null,
      "outputs": [
        {
          "output_type": "stream",
          "name": "stdout",
          "text": [
            "[-8, -3, 0, 1, 5, 10]\n"
          ]
        }
      ]
    },
    {
      "cell_type": "code",
      "source": [
        "#-------------------------------------------------------------\n",
        "# Алгоритм сортировки вставками\n",
        "#-------------------------------------------------------------\n",
        "\n",
        "a = [-3, 5, 0, -8, 1, 10]\n",
        "N = len(a)\n",
        "\n",
        "for i in range(1, N):\n",
        "  for j in range(i, 0, -1):\n",
        "    if a[j] < a[j - 1]:\n",
        "      a[j], a[j - 1] = a[j - 1], a[j]\n",
        "    else:\n",
        "      break\n",
        "\n",
        "print(a)"
      ],
      "metadata": {
        "colab": {
          "base_uri": "https://localhost:8080/"
        },
        "id": "bAnRV80GJMWP",
        "outputId": "cc40e8f1-5143-4185-e3d2-02ea9fefffc2"
      },
      "execution_count": 1,
      "outputs": [
        {
          "output_type": "stream",
          "name": "stdout",
          "text": [
            "[-8, -3, 0, 1, 5, 10]\n"
          ]
        }
      ]
    }
  ]
}